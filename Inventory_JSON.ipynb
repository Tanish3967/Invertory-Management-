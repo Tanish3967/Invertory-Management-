{
  "cells": [
    {
      "cell_type": "markdown",
      "metadata": {
        "id": "view-in-github",
        "colab_type": "text"
      },
      "source": [
        "<a href=\"https://colab.research.google.com/github/Tanish3967/Invertory-Management-/blob/main/Inventory_JSON.ipynb\" target=\"_parent\"><img src=\"https://colab.research.google.com/assets/colab-badge.svg\" alt=\"Open In Colab\"/></a>"
      ]
    },
    {
      "cell_type": "code",
      "execution_count": null,
      "id": "fc6ff7fe",
      "metadata": {
        "id": "fc6ff7fe"
      },
      "outputs": [],
      "source": [
        "import json\n",
        "\n",
        "record = {1001: {\"Name\": \"5 star\", \"Price\": 10, \"Qn\": 200},\n",
        "          1002: {\"Name\": \"Bar One\", \"Price\": 10, \"Qn\": 200},\n",
        "          1003: {\"Name\": \"Candy\", \"Price\": 5, \"Qn\": 1000},\n",
        "          1004: {\"Name\": \"Chocolate Cake\", \"Price\": 500, \"Qn\": 8},\n",
        "          1005: {\"Name\": \"Blueberry Cake\", \"Price\": 500, \"Qn\": 5}\n",
        "         }"
      ]
    },
    {
      "cell_type": "code",
      "execution_count": null,
      "id": "d53ae52e",
      "metadata": {
        "id": "d53ae52e",
        "outputId": "dcc66986-2244-4650-e701-bcf8061ea3c5",
        "colab": {
          "base_uri": "https://localhost:8080/",
          "height": 547
        }
      },
      "outputs": [
        {
          "output_type": "stream",
          "name": "stdout",
          "text": [
            "------------------------------\n",
            "             |Menu|             \n",
            "------------------------------\n",
            "1001 : 5 Star - 10 - 195\n",
            "1002 : Bar-One - 20 - 100\n",
            "1003 : Candy - 2 - 1000\n",
            "1004 : Chocolate Cake - 550 - 7\n",
            "1005 : Blueberry Cake - 650 - 5\n",
            "------------------------------\n"
          ]
        },
        {
          "output_type": "error",
          "ename": "KeyboardInterrupt",
          "evalue": "Interrupted by user",
          "traceback": [
            "\u001b[0;31m---------------------------------------------------------------------------\u001b[0m",
            "\u001b[0;31mKeyboardInterrupt\u001b[0m                         Traceback (most recent call last)",
            "\u001b[0;32m<ipython-input-17-6165c8b6176d>\u001b[0m in \u001b[0;36m<cell line: 17>\u001b[0;34m()\u001b[0m\n\u001b[1;32m     15\u001b[0m \u001b[0;34m\u001b[0m\u001b[0m\n\u001b[1;32m     16\u001b[0m \u001b[0mprint\u001b[0m\u001b[0;34m(\u001b[0m\u001b[0;34m\"-\"\u001b[0m \u001b[0;34m*\u001b[0m \u001b[0;36m30\u001b[0m\u001b[0;34m)\u001b[0m\u001b[0;34m\u001b[0m\u001b[0;34m\u001b[0m\u001b[0m\n\u001b[0;32m---> 17\u001b[0;31m \u001b[0mui_name\u001b[0m \u001b[0;34m=\u001b[0m \u001b[0mstr\u001b[0m\u001b[0;34m(\u001b[0m\u001b[0minput\u001b[0m\u001b[0;34m(\u001b[0m\u001b[0;34m\"Enter your Name:\"\u001b[0m\u001b[0;34m)\u001b[0m\u001b[0;34m)\u001b[0m\u001b[0;34m\u001b[0m\u001b[0;34m\u001b[0m\u001b[0m\n\u001b[0m\u001b[1;32m     18\u001b[0m \u001b[0mui_mail\u001b[0m \u001b[0;34m=\u001b[0m \u001b[0mstr\u001b[0m\u001b[0;34m(\u001b[0m\u001b[0minput\u001b[0m\u001b[0;34m(\u001b[0m\u001b[0;34m\"Enter your Email:\"\u001b[0m\u001b[0;34m)\u001b[0m\u001b[0;34m)\u001b[0m\u001b[0;34m\u001b[0m\u001b[0;34m\u001b[0m\u001b[0m\n\u001b[1;32m     19\u001b[0m \u001b[0mui_phn\u001b[0m \u001b[0;34m=\u001b[0m \u001b[0mstr\u001b[0m\u001b[0;34m(\u001b[0m\u001b[0minput\u001b[0m\u001b[0;34m(\u001b[0m\u001b[0;34m\"Enter your Phone No:\"\u001b[0m\u001b[0;34m)\u001b[0m\u001b[0;34m)\u001b[0m\u001b[0;34m\u001b[0m\u001b[0;34m\u001b[0m\u001b[0m\n",
            "\u001b[0;32m/usr/local/lib/python3.10/dist-packages/ipykernel/kernelbase.py\u001b[0m in \u001b[0;36mraw_input\u001b[0;34m(self, prompt)\u001b[0m\n\u001b[1;32m    849\u001b[0m                 \u001b[0;34m\"raw_input was called, but this frontend does not support input requests.\"\u001b[0m\u001b[0;34m\u001b[0m\u001b[0;34m\u001b[0m\u001b[0m\n\u001b[1;32m    850\u001b[0m             )\n\u001b[0;32m--> 851\u001b[0;31m         return self._input_request(str(prompt),\n\u001b[0m\u001b[1;32m    852\u001b[0m             \u001b[0mself\u001b[0m\u001b[0;34m.\u001b[0m\u001b[0m_parent_ident\u001b[0m\u001b[0;34m,\u001b[0m\u001b[0;34m\u001b[0m\u001b[0;34m\u001b[0m\u001b[0m\n\u001b[1;32m    853\u001b[0m             \u001b[0mself\u001b[0m\u001b[0;34m.\u001b[0m\u001b[0m_parent_header\u001b[0m\u001b[0;34m,\u001b[0m\u001b[0;34m\u001b[0m\u001b[0;34m\u001b[0m\u001b[0m\n",
            "\u001b[0;32m/usr/local/lib/python3.10/dist-packages/ipykernel/kernelbase.py\u001b[0m in \u001b[0;36m_input_request\u001b[0;34m(self, prompt, ident, parent, password)\u001b[0m\n\u001b[1;32m    893\u001b[0m             \u001b[0;32mexcept\u001b[0m \u001b[0mKeyboardInterrupt\u001b[0m\u001b[0;34m:\u001b[0m\u001b[0;34m\u001b[0m\u001b[0;34m\u001b[0m\u001b[0m\n\u001b[1;32m    894\u001b[0m                 \u001b[0;31m# re-raise KeyboardInterrupt, to truncate traceback\u001b[0m\u001b[0;34m\u001b[0m\u001b[0;34m\u001b[0m\u001b[0m\n\u001b[0;32m--> 895\u001b[0;31m                 \u001b[0;32mraise\u001b[0m \u001b[0mKeyboardInterrupt\u001b[0m\u001b[0;34m(\u001b[0m\u001b[0;34m\"Interrupted by user\"\u001b[0m\u001b[0;34m)\u001b[0m \u001b[0;32mfrom\u001b[0m \u001b[0;32mNone\u001b[0m\u001b[0;34m\u001b[0m\u001b[0;34m\u001b[0m\u001b[0m\n\u001b[0m\u001b[1;32m    896\u001b[0m             \u001b[0;32mexcept\u001b[0m \u001b[0mException\u001b[0m \u001b[0;32mas\u001b[0m \u001b[0me\u001b[0m\u001b[0;34m:\u001b[0m\u001b[0;34m\u001b[0m\u001b[0;34m\u001b[0m\u001b[0m\n\u001b[1;32m    897\u001b[0m                 \u001b[0mself\u001b[0m\u001b[0;34m.\u001b[0m\u001b[0mlog\u001b[0m\u001b[0;34m.\u001b[0m\u001b[0mwarning\u001b[0m\u001b[0;34m(\u001b[0m\u001b[0;34m\"Invalid Message:\"\u001b[0m\u001b[0;34m,\u001b[0m \u001b[0mexc_info\u001b[0m\u001b[0;34m=\u001b[0m\u001b[0;32mTrue\u001b[0m\u001b[0;34m)\u001b[0m\u001b[0;34m\u001b[0m\u001b[0;34m\u001b[0m\u001b[0m\n",
            "\u001b[0;31mKeyboardInterrupt\u001b[0m: Interrupted by user"
          ]
        }
      ],
      "source": [
        "import json\n",
        "import time\n",
        "\n",
        "fd = open(\"Records.json\", \"r\")\n",
        "js = fd.read()\n",
        "fd.close()\n",
        "record = json.loads(js)\n",
        "\n",
        "print(\"-\" * 30)\n",
        "print(\" \" * 12, \"|Menu|\", \" \" * 12)\n",
        "print(\"-\" * 30)\n",
        "\n",
        "for key in record.keys():\n",
        "    print(key, \":\", record[key][\"Name\"], \"-\", record[key][\"Price\"], \"-\", record[key][\"Qn\"])\n",
        "\n",
        "print(\"-\" * 30)\n",
        "ui_name = str(input(\"Enter your Name:\"))\n",
        "ui_mail = str(input(\"Enter your Email:\"))\n",
        "ui_phn = str(input(\"Enter your Phone No:\"))\n",
        "ui_pr = str(input(\"Enter Product Id: \"))\n",
        "ui_qn = int(input(\"Enter Quantity: \"))\n",
        "\n",
        "if (record[ui_pr][\"Qn\"] >= ui_qn):\n",
        "\n",
        "    print(\"-\" * 30)\n",
        "    print(\" \" * 12, \"|BILL|\", \" \" * 12)\n",
        "    print(\"-\" * 30)\n",
        "\n",
        "    print(\"Name     :\", record[ui_pr][\"Name\"])  # Access product name\n",
        "    print(\"Price    : $\", record[ui_pr][\"Price\"])  # Access product price\n",
        "    print(\"Quantity :\", ui_qn)\n",
        "    print(\"-\" * 30)\n",
        "\n",
        "    bill = record[ui_pr][\"Price\"] * ui_qn\n",
        "    print(\"Total    : $\", bill)\n",
        "    print(\"-\" * 30)\n",
        "\n",
        "    record[ui_pr]['Qn'] = record[ui_pr]['Qn'] - ui_qn\n",
        "    sales = '1' +\",\"+ ui_name +\",\"+ ui_mail +\",\"+ ui_phn +\",\"+ ui_pr +\",\"+ record[ui_pr][\"Name\"] +\",\"+ str(ui_qn) +\",\"+ str(ui_qn * record[ui_pr][\"Price\"]) +\",\"+ time.ctime()\n",
        "\n",
        "\n",
        "else:\n",
        "    print(\"-\" * 30)\n",
        "    print(\"Sorry! We don't have enough Inventory\")\n",
        "    print(\"We only have\", record[ui_pr][\"Qn\"], \"piece\")\n",
        "    print(\"-\" * 30)\n",
        "    choice = input(\"Would you like to purchase all the remaining Inventory (1 for yes, 0 for no) \")\n",
        "\n",
        "    if choice == \"1\" or choice.lower() == \"true\":\n",
        "        print(\"-\" * 30)\n",
        "        print(\" \" * 12, \"|BILL|\", \" \" * 12)\n",
        "        print(\"-\" * 30)\n",
        "        ui_qn = record[ui_pr][\"Qn\"]\n",
        "        print(\"Name     :\", record[ui_pr][\"Name\"])  # Access product name\n",
        "        print(\"Price    : $\", record[ui_pr][\"Price\"])  # Access product price\n",
        "        print(\"Quantity :\", ui_qn)\n",
        "        print(\"-\" * 30)\n",
        "\n",
        "        bill = record[ui_pr][\"Price\"] * record[ui_pr][\"Qn\"]\n",
        "        print(\"Total    : $\", bill)\n",
        "        print(\"-\" * 30)\n",
        "\n",
        "        record[ui_pr]['Qn'] = 0\n",
        "        sales = '1' +\",\"+ ui_name +\",\"+ ui_mail +\",\"+ ui_phn +\",\"+ ui_pr +\",\"+ record[ui_pr][\"Name\"] +\",\"+ str(record[ui_pr][\"Qn\"]) +\",\"+ str(ui_qn * record[ui_pr][\"Price\"]) +\",\"+ time.ctime()\n",
        "\n",
        "    else:\n",
        "        print(\"-\" * 30)\n",
        "        print(\"Thank You\")\n",
        "\n",
        "\n",
        "fd1 = open(\"Sales.xls\", \"a\")\n",
        "fd1.write(sales)\n",
        "fd1.close()\n",
        "\n",
        "js = json.dumps(record)  # Convert dictionary to JSON string\n",
        "\n",
        "with open(\"Records.json\", \"w\") as fd:  # Use 'with' statement to automatically close the file\n",
        "    fd.write(js)"
      ]
    },
    {
      "cell_type": "code",
      "source": [
        "import json\n",
        "\n",
        "fd = open(\"Records.json\", \"r\")\n",
        "js = fd.read()\n",
        "fd.close()\n",
        "record = json.loads(js)"
      ],
      "metadata": {
        "id": "OW5kkMr7cBTt"
      },
      "id": "OW5kkMr7cBTt",
      "execution_count": null,
      "outputs": []
    },
    {
      "cell_type": "code",
      "source": [
        "import json\n",
        "\n",
        "record = {1001: {'Name': \"5 Star\"         , \"Price\" : 10 , \"Qn\" : 200},\n",
        "          1002: {'Name': \"Bar-One\"        , \"Price\" : 20 , \"Qn\" : 100 },\n",
        "          1003: {'Name': \"Candy\"          , \"Price\" : 2  , \"Qn\" : 1000},\n",
        "          1004: {'Name': \"Chocolate Cake\" , \"Price\" : 550, \"Qn\" : 8 },\n",
        "          1005: {'Name': \"Blueberry Cake\" , \"Price\" : 650, \"Qn\" : 5 }}\n",
        "\n",
        "js = json.dumps(record)  # Convert dictionary to JSON string\n",
        "\n",
        "with open(\"Records.json\", \"w\") as fd:  # Use 'with' statement to automatically close the file\n",
        "    fd.write(js)"
      ],
      "metadata": {
        "id": "6AWCtUS-cJAp"
      },
      "id": "6AWCtUS-cJAp",
      "execution_count": null,
      "outputs": []
    },
    {
      "cell_type": "code",
      "source": [
        "fd1 = open(\"Sales.xls\", \"r\")\n",
        "print(fd1.read())\n",
        "fd1.close()\n"
      ],
      "metadata": {
        "id": "hGaYHUjBiAkj"
      },
      "id": "hGaYHUjBiAkj",
      "execution_count": null,
      "outputs": []
    }
  ],
  "metadata": {
    "kernelspec": {
      "display_name": "Python 3 (ipykernel)",
      "language": "python",
      "name": "python3"
    },
    "language_info": {
      "codemirror_mode": {
        "name": "ipython",
        "version": 3
      },
      "file_extension": ".py",
      "mimetype": "text/x-python",
      "name": "python",
      "nbconvert_exporter": "python",
      "pygments_lexer": "ipython3",
      "version": "3.11.5"
    },
    "colab": {
      "provenance": [],
      "include_colab_link": true
    }
  },
  "nbformat": 4,
  "nbformat_minor": 5
}